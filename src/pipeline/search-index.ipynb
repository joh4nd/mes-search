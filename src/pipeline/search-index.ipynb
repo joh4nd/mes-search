{
 "cells": [
  {
   "cell_type": "markdown",
   "metadata": {},
   "source": [
    "# Search the index through a notebook"
   ]
  },
  {
   "cell_type": "code",
   "execution_count": null,
   "metadata": {},
   "outputs": [],
   "source": [
    "from es_client import Search\n",
    "es = Search()"
   ]
  },
  {
   "cell_type": "markdown",
   "metadata": {},
   "source": [
    "## pipe data to es"
   ]
  },
  {
   "cell_type": "code",
   "execution_count": null,
   "metadata": {},
   "outputs": [],
   "source": [
    "import logging\n",
    "import pandas as pd\n",
    "from es_client import Search\n",
    "\n",
    "logging.basicConfig(level=logging.INFO)\n",
    "\n",
    "isis = pd.read_csv('../../data/tweets.csv', usecols=['username','tweets','time'])\n",
    "\n",
    "# isis_docs = isis.to_json(orient='records')\n",
    "\n",
    "# isis_docs[:100]\n",
    "\n",
    "isis_docs = isis.to_dict(orient='records') \n",
    "\n",
    "# for nu, doc in enumerate(isis.to_dict(orient='records')):\n",
    "#     print(nu, doc)\n",
    "\n",
    "es.add_documents(json_docs=isis_docs)"
   ]
  },
  {
   "cell_type": "code",
   "execution_count": null,
   "metadata": {},
   "outputs": [],
   "source": [
    "es.es.indices.exists(index='isis_docs')"
   ]
  },
  {
   "cell_type": "code",
   "execution_count": null,
   "metadata": {},
   "outputs": [],
   "source": [
    "import json\n",
    "with open('../../data/data.json', 'rt') as f:\n",
    "    documents = json.loads(f.read())\n",
    "\n",
    "documents\n",
    "#type(documents)\n",
    "\n",
    "# for nu, doc in enumerate(isis.to_dict(orient='records')):\n",
    "#     print(nu, doc)"
   ]
  },
  {
   "cell_type": "code",
   "execution_count": null,
   "metadata": {},
   "outputs": [],
   "source": [
    "es.add_documents(json_docs=documents)"
   ]
  },
  {
   "cell_type": "code",
   "execution_count": null,
   "metadata": {},
   "outputs": [],
   "source": [
    "es.es.indices.exists(index='documents')"
   ]
  },
  {
   "cell_type": "code",
   "execution_count": 1,
   "metadata": {},
   "outputs": [
    {
     "name": "stderr",
     "output_type": "stream",
     "text": [
      "INFO:elastic_transport.transport:GET http://host.docker.internal:9200/ [status:200 duration:0.005s]\n",
      "INFO:root:Connected to Elasticsearch!\n",
      "INFO:root:{\n",
      "    \"name\": \"79ebec8e4805\",\n",
      "    \"cluster_name\": \"docker-cluster\",\n",
      "    \"cluster_uuid\": \"2A2yPtP0TPOblTylpJ4Ibg\",\n",
      "    \"version\": {\n",
      "        \"number\": \"8.11.0\",\n",
      "        \"build_flavor\": \"default\",\n",
      "        \"build_type\": \"docker\",\n",
      "        \"build_hash\": \"d9ec3fa628c7b0ba3d25692e277ba26814820b20\",\n",
      "        \"build_date\": \"2023-11-04T10:04:57.184859352Z\",\n",
      "        \"build_snapshot\": false,\n",
      "        \"lucene_version\": \"9.8.0\",\n",
      "        \"minimum_wire_compatibility_version\": \"7.17.0\",\n",
      "        \"minimum_index_compatibility_version\": \"7.0.0\"\n",
      "    },\n",
      "    \"tagline\": \"You Know, for Search\"\n",
      "}\n",
      "INFO:elastic_transport.transport:POST http://host.docker.internal:9200/_search [status:200 duration:0.009s]\n"
     ]
    }
   ],
   "source": [
    "from es_client import Search\n",
    "es = Search()\n",
    "response1 = es.search(query={\"match\": {\"name\": {\"query\": \"policy\"}}})"
   ]
  },
  {
   "cell_type": "raw",
   "metadata": {},
   "source": [
    "response1"
   ]
  },
  {
   "cell_type": "markdown",
   "metadata": {},
   "source": [
    "## retrieve indexes and search"
   ]
  },
  {
   "cell_type": "code",
   "execution_count": null,
   "metadata": {},
   "outputs": [],
   "source": [
    "list(es.es.indices.get_alias(index=\"*\").keys())"
   ]
  },
  {
   "cell_type": "code",
   "execution_count": null,
   "metadata": {},
   "outputs": [],
   "source": [
    "response = es.search(query={\"match\": {\"tweets\": {\"query\": \"Denmark\"}}})"
   ]
  },
  {
   "cell_type": "code",
   "execution_count": null,
   "metadata": {},
   "outputs": [],
   "source": [
    "response[\"hits\"]"
   ]
  },
  {
   "cell_type": "code",
   "execution_count": null,
   "metadata": {},
   "outputs": [],
   "source": [
    "import json \n",
    "\n",
    "dk = [json.dumps(tweet[\"_source\"][\"tweets\"]) for tweet in response[\"hits\"][\"hits\"]]\n",
    "\n",
    "for t in dk:\n",
    "    print(t, '\\n')\n",
    "#hit[\"_source\"][\"field\"]"
   ]
  }
 ],
 "metadata": {
  "kernelspec": {
   "display_name": "Python 3 (ipykernel)",
   "language": "python",
   "name": "python3"
  },
  "language_info": {
   "codemirror_mode": {
    "name": "ipython",
    "version": 3
   },
   "file_extension": ".py",
   "mimetype": "text/x-python",
   "name": "python",
   "nbconvert_exporter": "python",
   "pygments_lexer": "ipython3",
   "version": "3.12.2"
  }
 },
 "nbformat": 4,
 "nbformat_minor": 4
}
