{
 "cells": [
  {
   "cell_type": "markdown",
   "metadata": {},
   "source": [
    "# Search the index through a notebook"
   ]
  },
  {
   "cell_type": "code",
   "execution_count": null,
   "metadata": {},
   "outputs": [],
   "source": [
    "from es_client import Search\n",
    "import pandas as pd\n",
    "\n",
    "es = Search()\n",
    "\n",
    "# pipe data to es\n",
    "isis = pd.read_csv('../../data/tweets.csv', usecols=['username','tweets','time'])\n",
    "isis_docs = isis.to_dict(orient='records') \n",
    "es.add_documents(json_docs=isis_docs)\n",
    "es.es.indices.exists(index='isis_docs')"
   ]
  },
  {
   "cell_type": "code",
   "execution_count": null,
   "metadata": {},
   "outputs": [],
   "source": [
    "# retrieve indexes and search\n",
    "list(es.es.indices.get_alias(index=\"*\").keys())\n",
    "\n",
    "response = es.search(query={\"match\": {\"tweets\": {\"query\": \"Denmark\"}}})\n",
    "\n",
    "response[\"hits\"]\n",
    "\n",
    "import json \n",
    "\n",
    "dk = [json.dumps(tweet[\"_source\"][\"tweets\"]) for tweet in response[\"hits\"][\"hits\"]]\n",
    "\n",
    "for t in dk:\n",
    "    print(t, '\\n')"
   ]
  }
 ],
 "metadata": {
  "kernelspec": {
   "display_name": "Python 3 (ipykernel)",
   "language": "python",
   "name": "python3"
  },
  "language_info": {
   "codemirror_mode": {
    "name": "ipython",
    "version": 3
   },
   "file_extension": ".py",
   "mimetype": "text/x-python",
   "name": "python",
   "nbconvert_exporter": "python",
   "pygments_lexer": "ipython3",
   "version": "3.12.2"
  }
 },
 "nbformat": 4,
 "nbformat_minor": 4
}
