{
 "cells": [
  {
   "cell_type": "markdown",
   "metadata": {},
   "source": [
    "# Search the index through a notebook"
   ]
  },
  {
   "cell_type": "code",
   "execution_count": null,
   "metadata": {},
   "outputs": [],
   "source": [
    "from es_client import Search\n",
    "es = Search()"
   ]
  },
  {
   "cell_type": "markdown",
   "metadata": {},
   "source": [
    "## isis"
   ]
  },
  {
   "cell_type": "code",
   "execution_count": null,
   "metadata": {},
   "outputs": [],
   "source": [
    "import logging\n",
    "import pandas as pd\n",
    "from es_client import Search\n",
    "\n",
    "logging.basicConfig(level=logging.INFO)\n",
    "\n",
    "isis = pd.read_csv('../../data/tweets.csv', usecols=['username','tweets','time'])\n",
    "\n",
    "# isis_docs = isis.to_json(orient='records')\n",
    "\n",
    "# isis_docs[:100]\n",
    "\n",
    "isis_docs = isis.to_dict(orient='records') \n",
    "\n",
    "# for nu, doc in enumerate(isis.to_dict(orient='records')):\n",
    "#     print(nu, doc)\n",
    "\n",
    "es.add_documents(json_docs=isis_docs)"
   ]
  },
  {
   "cell_type": "code",
   "execution_count": null,
   "metadata": {},
   "outputs": [],
   "source": [
    "es.es.indices.exists(index='isis_docs')"
   ]
  },
  {
   "cell_type": "markdown",
   "metadata": {
    "jp-MarkdownHeadingCollapsed": true
   },
   "source": [
    "## es tutorial data.json"
   ]
  },
  {
   "cell_type": "code",
   "execution_count": null,
   "metadata": {},
   "outputs": [],
   "source": [
    "import json\n",
    "with open('../../data/data.json', 'rt') as f:\n",
    "    documents = json.loads(f.read())\n",
    "\n",
    "documents\n",
    "#type(documents)\n",
    "\n",
    "# for nu, doc in enumerate(isis.to_dict(orient='records')):\n",
    "#     print(nu, doc)"
   ]
  },
  {
   "cell_type": "code",
   "execution_count": null,
   "metadata": {},
   "outputs": [],
   "source": [
    "es.add_documents(json_docs=documents)"
   ]
  },
  {
   "cell_type": "code",
   "execution_count": null,
   "metadata": {},
   "outputs": [],
   "source": [
    "es.es.indices.exists(index='documents')"
   ]
  },
  {
   "cell_type": "markdown",
   "metadata": {},
   "source": [
    "## retrieve indexes and search"
   ]
  },
  {
   "cell_type": "code",
   "execution_count": null,
   "metadata": {},
   "outputs": [],
   "source": [
    "list(es.es.indices.get_alias(index=\"*\").keys())"
   ]
  },
  {
   "cell_type": "code",
   "execution_count": null,
   "metadata": {},
   "outputs": [],
   "source": [
    "import json\n",
    "response = es.es.search(\n",
    "    query={\"match\": {\"tweets\": {\"query\": \"Denmark\"}}})\n",
    "#print(response['hits']['hits'])\n",
    "#print(json.dumps(response['hits']['hits']))\n",
    "\n",
    "# es.es.get(index='isis_docs', id=\"gip2pI4BVkg-0CAxL2sx\")"
   ]
  },
  {
   "cell_type": "code",
   "execution_count": 72,
   "metadata": {},
   "outputs": [
    {
     "name": "stdout",
     "output_type": "stream",
     "text": [
      "{\"username\": \"Alwala_bara\", \"time\": \"1/25/2016 13:47\", \"tweets\": \"RT @AJEnglish: Denmark to vote on seizing refugees' money and valuables https://t.co/4c1JqbaqME https://t.co/kV7LSoRoir\"}\n"
     ]
    }
   ],
   "source": [
    "print(tweet for tweet in json.dumps(response['hits']['hits'][3][\"_source\"]))\n",
    "\n",
    "#hit[\"_source\"][\"field\"]"
   ]
  },
  {
   "cell_type": "code",
   "execution_count": 5,
   "metadata": {},
   "outputs": [
    {
     "name": "stderr",
     "output_type": "stream",
     "text": [
      "INFO:elastic_transport.transport:POST http://host.docker.internal:9200/_search [status:200 duration:0.015s]\n"
     ]
    },
    {
     "data": {
      "text/plain": [
       "'{\"username\": \"Alwala_bara\", \"time\": \"1/25/2016 13:47\", \"tweets\": \"RT @AJEnglish: Denmark to vote on seizing refugees\\' money and valuables https://t.co/4c1JqbaqME https://t.co/kV7LSoRoir\"}'"
      ]
     },
     "execution_count": 5,
     "metadata": {},
     "output_type": "execute_result"
    }
   ],
   "source": [
    "import json\n",
    "response = es.es.search(\n",
    "    query={\"match\": {\"tweets\": {\"query\": \"Denmark\"}}})\n",
    "response\n",
    "json.dumps(response['hits']['hits'][3][\"_source\"])\n",
    "# print(tweet for tweet in json.dumps(response['hits']['hits'][3][\"_source\"]))\n",
    "\n",
    "#hit[\"_source\"][\"field\"]"
   ]
  },
  {
   "cell_type": "code",
   "execution_count": 1,
   "metadata": {},
   "outputs": [
    {
     "name": "stderr",
     "output_type": "stream",
     "text": [
      "INFO:elastic_transport.transport:GET http://host.docker.internal:9200/ [status:200 duration:0.005s]\n",
      "INFO:root:Connected to Elasticsearch!\n",
      "INFO:root:{\n",
      "    \"name\": \"79ebec8e4805\",\n",
      "    \"cluster_name\": \"docker-cluster\",\n",
      "    \"cluster_uuid\": \"2A2yPtP0TPOblTylpJ4Ibg\",\n",
      "    \"version\": {\n",
      "        \"number\": \"8.11.0\",\n",
      "        \"build_flavor\": \"default\",\n",
      "        \"build_type\": \"docker\",\n",
      "        \"build_hash\": \"d9ec3fa628c7b0ba3d25692e277ba26814820b20\",\n",
      "        \"build_date\": \"2023-11-04T10:04:57.184859352Z\",\n",
      "        \"build_snapshot\": false,\n",
      "        \"lucene_version\": \"9.8.0\",\n",
      "        \"minimum_wire_compatibility_version\": \"7.17.0\",\n",
      "        \"minimum_index_compatibility_version\": \"7.0.0\"\n",
      "    },\n",
      "    \"tagline\": \"You Know, for Search\"\n",
      "}\n",
      "INFO:elastic_transport.transport:POST http://host.docker.internal:9200/_search [status:200 duration:0.009s]\n"
     ]
    }
   ],
   "source": [
    "from es_client import Search\n",
    "es = Search()\n",
    "response1 = es.search(query={\"match\": {\"name\": {\"query\": \"policy\"}}})"
   ]
  },
  {
   "cell_type": "raw",
   "metadata": {},
   "source": [
    "response1"
   ]
  },
  {
   "cell_type": "code",
   "execution_count": 2,
   "metadata": {},
   "outputs": [
    {
     "name": "stderr",
     "output_type": "stream",
     "text": [
      "INFO:elastic_transport.transport:POST http://host.docker.internal:9200/_search [status:200 duration:0.010s]\n"
     ]
    },
    {
     "data": {
      "text/plain": [
       "ObjectApiResponse({'took': 3, 'timed_out': False, '_shards': {'total': 2, 'successful': 2, 'skipped': 0, 'failed': 0}, 'hits': {'total': {'value': 5, 'relation': 'eq'}, 'max_score': 10.600021, 'hits': [{'_index': 'isis_docs', '_id': 'vBmlqI4BaQNT2r3bAKBI', '_score': 10.600021, '_source': {'username': 'Uncle_SamCoco', 'time': '2/12/2016 20:36', 'tweets': 'Coconut Temple in Denmark\\n\\nhttps://t.co/FwMV4yNMgr'}}, {'_index': 'isis_docs', '_id': '1RmlqI4BaQNT2r3bAKpM', '_score': 8.6681385, '_source': {'username': 'warrnews', 'time': '3/4/2016 12:13', 'tweets': 'Denmark to expand anti-ISIS military mission with 400 Elite Soldiers.... https://t.co/ugFmV322s0'}}, {'_index': 'isis_docs', '_id': 'xhmlqI4BaQNT2r3bAMRW', '_score': 8.6681385, '_source': {'username': 'Uncle_SamCoco', 'time': '4/21/2016 21:56', 'tweets': 'RT @Military_Edge: Denmark To Reinforce Military Fight Against ISIS https://t.co/gXzFha8Q8k via @defense_news'}}, {'_index': 'isis_docs', '_id': '9hmlqI4BaQNT2r3bAJVD', '_score': 8.040136, '_source': {'username': 'Alwala_bara', 'time': '1/25/2016 13:47', 'tweets': \"RT @AJEnglish: Denmark to vote on seizing refugees' money and valuables https://t.co/4c1JqbaqME https://t.co/kV7LSoRoir\"}}, {'_index': 'isis_docs', '_id': '1BmlqI4BaQNT2r3bAKpM', '_score': 8.040136, '_source': {'username': 'warrnews', 'time': '3/4/2016 12:09', 'tweets': 'RT @Nidalgazaui: #Denmark sents 400 Eilite Soldiers to Fight #ISIS in #Syria and #Iraq. https://t.co/pNTsv2HrTL'}}]}})"
      ]
     },
     "execution_count": 2,
     "metadata": {},
     "output_type": "execute_result"
    }
   ],
   "source": [
    "response2 = es.es.search(query={\"match\": {\"tweets\": {\"query\": \"Denmark\"}}})\n",
    "\n",
    "response2"
   ]
  },
  {
   "cell_type": "code",
   "execution_count": null,
   "metadata": {},
   "outputs": [],
   "source": []
  }
 ],
 "metadata": {
  "kernelspec": {
   "display_name": "Python 3 (ipykernel)",
   "language": "python",
   "name": "python3"
  },
  "language_info": {
   "codemirror_mode": {
    "name": "ipython",
    "version": 3
   },
   "file_extension": ".py",
   "mimetype": "text/x-python",
   "name": "python",
   "nbconvert_exporter": "python",
   "pygments_lexer": "ipython3",
   "version": "3.12.2"
  }
 },
 "nbformat": 4,
 "nbformat_minor": 4
}
