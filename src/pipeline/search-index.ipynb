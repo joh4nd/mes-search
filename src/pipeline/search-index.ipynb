{
 "cells": [
  {
   "cell_type": "markdown",
   "metadata": {},
   "source": [
    "# Search the index through a notebook"
   ]
  },
  {
   "cell_type": "code",
   "execution_count": 1,
   "metadata": {},
   "outputs": [],
   "source": [
    "from es_client import Search"
   ]
  },
  {
   "cell_type": "code",
   "execution_count": null,
   "metadata": {},
   "outputs": [],
   "source": [
    "es = Search()"
   ]
  },
  {
   "cell_type": "code",
   "execution_count": null,
   "metadata": {},
   "outputs": [],
   "source": [
    "import logging\n",
    "import pandas as pd\n",
    "from es_client import Search\n",
    "\n",
    "logging.basicConfig(level=logging.INFO)\n",
    "\n",
    "isis = pd.read_csv('../../data/tweets.csv', usecols=['username','tweets','time'])\n",
    "\n",
    "# isis_docs = isis.to_json(orient='records')\n",
    "\n",
    "# isis_docs[:100]\n",
    "\n",
    "isis_docs = isis.to_dict(orient='records') \n",
    "\n",
    "# for nu, doc in enumerate(isis.to_dict(orient='records')):\n",
    "#     print(nu, doc)\n",
    "\n",
    "es = Search()\n",
    "\n",
    "es.add_documents(json_docs=isis_docs)\n",
    "\n"
   ]
  },
  {
   "cell_type": "code",
   "execution_count": null,
   "metadata": {},
   "outputs": [],
   "source": [
    "es.es.indices.exists(index='isis_docs')"
   ]
  },
  {
   "cell_type": "code",
   "execution_count": null,
   "metadata": {},
   "outputs": [],
   "source": []
  }
 ],
 "metadata": {
  "kernelspec": {
   "display_name": "Python 3 (ipykernel)",
   "language": "python",
   "name": "python3"
  },
  "language_info": {
   "codemirror_mode": {
    "name": "ipython",
    "version": 3
   },
   "file_extension": ".py",
   "mimetype": "text/x-python",
   "name": "python",
   "nbconvert_exporter": "python",
   "pygments_lexer": "ipython3",
   "version": "3.12.2"
  }
 },
 "nbformat": 4,
 "nbformat_minor": 4
}
