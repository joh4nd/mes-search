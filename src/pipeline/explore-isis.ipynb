{
 "cells": [
  {
   "cell_type": "code",
   "execution_count": null,
   "metadata": {},
   "outputs": [],
   "source": [
    "import pandas as pd\n",
    "\n",
    "isis = pd.read_csv('../../data/tweets.csv', usecols=['username','tweets','time']) \n",
    "\n",
    "isis.index.name = 'ID'\n",
    "\n",
    "isis.head()\n",
    "\n",
    "isis.iloc[1]['tweets']\n",
    "isis.to_json(orient='records')[:200]\n",
    "isis.reset_index().to_dict(orient='records')[:200]\n",
    "\n",
    "# consider regex rm escape characters like \\n and URI/URL"
   ]
  }
 ],
 "metadata": {
  "kernelspec": {
   "display_name": "Python 3 (ipykernel)",
   "language": "python",
   "name": "python3"
  },
  "language_info": {
   "codemirror_mode": {
    "name": "ipython",
    "version": 3
   },
   "file_extension": ".py",
   "mimetype": "text/x-python",
   "name": "python",
   "nbconvert_exporter": "python",
   "pygments_lexer": "ipython3",
   "version": "3.9.2"
  }
 },
 "nbformat": 4,
 "nbformat_minor": 4
}
